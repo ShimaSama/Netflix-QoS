{
  "nbformat": 4,
  "nbformat_minor": 0,
  "metadata": {
    "colab": {
      "provenance": [],
      "toc_visible": true,
      "authorship_tag": "ABX9TyN81hH+OF2soqGrmqZMAMys",
      "include_colab_link": true
    },
    "kernelspec": {
      "name": "python3",
      "display_name": "Python 3"
    },
    "language_info": {
      "name": "python"
    }
  },
  "cells": [
    {
      "cell_type": "markdown",
      "metadata": {
        "id": "view-in-github",
        "colab_type": "text"
      },
      "source": [
        "<a href=\"https://colab.research.google.com/github/ShimaSama/Netflix-QoS/blob/main/google_colab/LogisticRegression.ipynb\" target=\"_parent\"><img src=\"https://colab.research.google.com/assets/colab-badge.svg\" alt=\"Open In Colab\"/></a>"
      ]
    },
    {
      "cell_type": "markdown",
      "source": [
        "# Imports"
      ],
      "metadata": {
        "id": "W9MDgr_rn1pL"
      }
    },
    {
      "cell_type": "code",
      "execution_count": null,
      "metadata": {
        "id": "hONGf4ODnxP5"
      },
      "outputs": [],
      "source": [
        "import pandas\n",
        "import matplotlib.pyplot as plt\n",
        "from sklearn import model_selection\n",
        "from sklearn import metrics\n",
        "from sklearn.linear_model import LogisticRegression\n",
        "import random\n",
        "import joblib"
      ]
    },
    {
      "cell_type": "markdown",
      "source": [
        "# Load dataset"
      ],
      "metadata": {
        "id": "vjV_X4CYoA_-"
      }
    },
    {
      "cell_type": "code",
      "source": [
        "from google.colab import drive\n",
        "drive.mount('/content/drive')\n",
        "BASE_DIR = '/content/drive/My Drive/MALWIAS/TMA/'"
      ],
      "metadata": {
        "colab": {
          "base_uri": "https://localhost:8080/"
        },
        "id": "cVN5o1KKn-6_",
        "outputId": "515f7b36-7c23-446c-e79d-6eff16d250cc"
      },
      "execution_count": null,
      "outputs": [
        {
          "output_type": "stream",
          "name": "stdout",
          "text": [
            "Mounted at /content/drive\n"
          ]
        }
      ]
    },
    {
      "cell_type": "code",
      "source": [
        "def get_dataset_from_csv(filename):\n",
        "  file = open(BASE_DIR + filename, 'r')\n",
        "  hexa_fields = {item: lambda x: int(x, 16) for item in [\"tcp.flags\", \"tcp.checksum\", \"ip.checksum\", \"ip.dsfield\", \"ip.flags\", \"ip.id\"]}\n",
        "  dataset = pandas.read_csv(file, converters=hexa_fields)\n",
        "  values = dataset.values\n",
        "  X = values[:,:len(values[1]) - 1]\n",
        "  Y = values[:,len(values[1]) - 1]\n",
        "  return X, Y\n",
        "\n",
        "X, Y = get_dataset_from_csv('data/computer.csv')\n",
        "X_train, X_validation, Y_train, Y_validation = model_selection.train_test_split(X, Y, test_size=0.3, random_state=random.randint(0, 100000))\n",
        "X_test, Y_test = get_dataset_from_csv('data/test.csv')"
      ],
      "metadata": {
        "id": "LtSGWRuio9qW"
      },
      "execution_count": null,
      "outputs": []
    },
    {
      "cell_type": "markdown",
      "source": [
        "# Create Model"
      ],
      "metadata": {
        "id": "LV1eVncrtBgj"
      }
    },
    {
      "cell_type": "markdown",
      "source": [
        "## Loading model"
      ],
      "metadata": {
        "id": "NrCTRRXF0A6b"
      }
    },
    {
      "cell_type": "code",
      "source": [
        "filename = BASE_DIR + 'models/LogisticRegression_model.sav'\n",
        "model = joblib.load(filename)"
      ],
      "metadata": {
        "id": "K76j-fmS6uzN"
      },
      "execution_count": null,
      "outputs": []
    },
    {
      "cell_type": "markdown",
      "source": [
        "## Creating model"
      ],
      "metadata": {
        "id": "nry8AdIN6pEO"
      }
    },
    {
      "cell_type": "code",
      "source": [
        "model = LogisticRegression(verbose=True, max_iter=1000)\n",
        "model.fit(X_train, Y_train)"
      ],
      "metadata": {
        "colab": {
          "base_uri": "https://localhost:8080/"
        },
        "id": "MEHGK0B0pkdz",
        "outputId": "7499cd60-fbc1-49f7-8b3a-3d4ce08cf7a8"
      },
      "execution_count": null,
      "outputs": [
        {
          "output_type": "stream",
          "name": "stderr",
          "text": [
            "[Parallel(n_jobs=1)]: Using backend SequentialBackend with 1 concurrent workers.\n",
            "[Parallel(n_jobs=1)]: Done   1 out of   1 | elapsed:    7.9s finished\n"
          ]
        },
        {
          "output_type": "execute_result",
          "data": {
            "text/plain": [
              "LogisticRegression(max_iter=1000, verbose=True)"
            ]
          },
          "metadata": {},
          "execution_count": 9
        }
      ]
    },
    {
      "cell_type": "markdown",
      "source": [
        "## Saving model"
      ],
      "metadata": {
        "id": "r0g-xSs32ASi"
      }
    },
    {
      "cell_type": "code",
      "source": [
        "filename = BASE_DIR + 'models/LogisticRegression_model.sav'\n",
        "joblib.dump(model, filename)"
      ],
      "metadata": {
        "colab": {
          "base_uri": "https://localhost:8080/"
        },
        "id": "PiA3bzxj1_Gi",
        "outputId": "c4b33ba3-d70f-4289-d70f-1a3595a19404"
      },
      "execution_count": null,
      "outputs": [
        {
          "output_type": "execute_result",
          "data": {
            "text/plain": [
              "['/content/drive/My Drive/MALWIAS/TMA/models/LogisticRegression_model.sav']"
            ]
          },
          "metadata": {},
          "execution_count": 10
        }
      ]
    },
    {
      "cell_type": "markdown",
      "source": [
        "# Test & Validation"
      ],
      "metadata": {
        "id": "BO8-JHli2LmY"
      }
    },
    {
      "cell_type": "code",
      "source": [
        "score = model.score(X_validation, Y_validation)\n",
        "expected = Y_test\n",
        "predicted = model.predict(X_test)\n",
        "\n",
        "print(\"Model Score: %s\" % score)\n",
        "print(metrics.classification_report(expected, predicted))\n",
        "print(metrics.confusion_matrix(expected, predicted))"
      ],
      "metadata": {
        "colab": {
          "base_uri": "https://localhost:8080/"
        },
        "id": "c8ki6wMuyPDc",
        "outputId": "02fc6bcc-89bc-4aa8-e766-2dbaf9401bd9"
      },
      "execution_count": null,
      "outputs": [
        {
          "output_type": "stream",
          "name": "stdout",
          "text": [
            "Model Score: 0.8454471781103268\n"
          ]
        },
        {
          "output_type": "stream",
          "name": "stderr",
          "text": [
            "/usr/local/lib/python3.8/dist-packages/sklearn/metrics/_classification.py:1318: UndefinedMetricWarning: Precision and F-score are ill-defined and being set to 0.0 in labels with no predicted samples. Use `zero_division` parameter to control this behavior.\n",
            "  _warn_prf(average, modifier, msg_start, len(result))\n",
            "/usr/local/lib/python3.8/dist-packages/sklearn/metrics/_classification.py:1318: UndefinedMetricWarning: Precision and F-score are ill-defined and being set to 0.0 in labels with no predicted samples. Use `zero_division` parameter to control this behavior.\n",
            "  _warn_prf(average, modifier, msg_start, len(result))\n"
          ]
        },
        {
          "output_type": "stream",
          "name": "stdout",
          "text": [
            "              precision    recall  f1-score   support\n",
            "\n",
            "     netflix       0.00      0.00      0.00      2691\n",
            "  no_netflix       0.88      1.00      0.94     20120\n",
            "\n",
            "    accuracy                           0.88     22811\n",
            "   macro avg       0.44      0.50      0.47     22811\n",
            "weighted avg       0.78      0.88      0.83     22811\n",
            "\n",
            "[[    0  2691]\n",
            " [    0 20120]]\n"
          ]
        },
        {
          "output_type": "stream",
          "name": "stderr",
          "text": [
            "/usr/local/lib/python3.8/dist-packages/sklearn/metrics/_classification.py:1318: UndefinedMetricWarning: Precision and F-score are ill-defined and being set to 0.0 in labels with no predicted samples. Use `zero_division` parameter to control this behavior.\n",
            "  _warn_prf(average, modifier, msg_start, len(result))\n"
          ]
        }
      ]
    },
    {
      "cell_type": "code",
      "source": [
        "false_positive = false_negative = true_positive = true_negative = good = 0\n",
        "for predicted_i, expected_i in zip(predicted, expected):\n",
        "  if predicted_i == expected_i:\n",
        "    good += 1\n",
        "    if predicted_i == \"no_netflix\":\n",
        "      true_negative += 1\n",
        "    else:\n",
        "      true_positive += 1\n",
        "  else:\n",
        "    if predicted_i == \"no_netflix\":\n",
        "      false_negative += 1\n",
        "    else:\n",
        "      false_positive += 1\n",
        "\n",
        "print(\"true positive = \" + str(true_positive)+ \"---> rate = \" + str(true_positive/(true_positive+false_negative)))\n",
        "print(\"true negative = \" + str(true_negative) + \"---> rate = \" + str(true_negative/(true_negative+false_positive)))\n",
        "print(\"false negative = \" + str(false_negative) + \"---> rate = \" + str(false_negative/(false_negative+true_positive)))\n",
        "print(\"false positive = \" + str(false_positive) + \"---> rate = \" + str(false_positive/(false_positive+true_negative)))\n",
        "print(\"sensitivity = \" + str(true_positive/(true_positive+false_negative)))\n",
        "print(\"specifity = \" + str(true_negative/(true_negative+false_positive)))\n",
        "print(\"acurracy = \" + str(good/len(predicted)))"
      ],
      "metadata": {
        "colab": {
          "base_uri": "https://localhost:8080/"
        },
        "id": "RdDixX1N3PpN",
        "outputId": "649cee48-1153-4441-d7d0-99859c013ce9"
      },
      "execution_count": null,
      "outputs": [
        {
          "output_type": "stream",
          "name": "stdout",
          "text": [
            "true positive = 0---> rate = 0.0\n",
            "true negative = 20120---> rate = 1.0\n",
            "false negative = 2691---> rate = 1.0\n",
            "false positive = 0---> rate = 0.0\n",
            "sensitivity = 0.0\n",
            "specifity = 1.0\n",
            "acurracy = 0.8820305992722809\n"
          ]
        }
      ]
    }
  ]
}