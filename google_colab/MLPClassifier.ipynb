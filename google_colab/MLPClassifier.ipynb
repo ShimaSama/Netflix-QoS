{
  "nbformat": 4,
  "nbformat_minor": 0,
  "metadata": {
    "colab": {
      "provenance": [],
      "toc_visible": true,
      "authorship_tag": "ABX9TyNQL8NNeKG2C2lfPah3GzSJ",
      "include_colab_link": true
    },
    "kernelspec": {
      "name": "python3",
      "display_name": "Python 3"
    },
    "language_info": {
      "name": "python"
    }
  },
  "cells": [
    {
      "cell_type": "markdown",
      "metadata": {
        "id": "view-in-github",
        "colab_type": "text"
      },
      "source": [
        "<a href=\"https://colab.research.google.com/github/ShimaSama/Netflix-QoS/blob/main/google_colab/MLPClassifier.ipynb\" target=\"_parent\"><img src=\"https://colab.research.google.com/assets/colab-badge.svg\" alt=\"Open In Colab\"/></a>"
      ]
    },
    {
      "cell_type": "markdown",
      "source": [
        "# Imports"
      ],
      "metadata": {
        "id": "W9MDgr_rn1pL"
      }
    },
    {
      "cell_type": "code",
      "execution_count": null,
      "metadata": {
        "id": "hONGf4ODnxP5"
      },
      "outputs": [],
      "source": [
        "import pandas\n",
        "import matplotlib.pyplot as plt\n",
        "from sklearn import model_selection\n",
        "from sklearn import metrics\n",
        "from sklearn.neural_network import MLPClassifier\n",
        "import random\n",
        "import joblib"
      ]
    },
    {
      "cell_type": "markdown",
      "source": [
        "# Load dataset"
      ],
      "metadata": {
        "id": "vjV_X4CYoA_-"
      }
    },
    {
      "cell_type": "code",
      "source": [
        "from google.colab import drive\n",
        "drive.mount('/content/drive')\n",
        "BASE_DIR = '/content/drive/My Drive/MALWIAS/TMA/'"
      ],
      "metadata": {
        "colab": {
          "base_uri": "https://localhost:8080/"
        },
        "id": "cVN5o1KKn-6_",
        "outputId": "99fa8014-721a-4a92-8837-58cbe48de2a8"
      },
      "execution_count": null,
      "outputs": [
        {
          "output_type": "stream",
          "name": "stdout",
          "text": [
            "Mounted at /content/drive\n"
          ]
        }
      ]
    },
    {
      "cell_type": "code",
      "source": [
        "def get_dataset_from_csv(filename):\n",
        "  file = open(BASE_DIR + filename, 'r')\n",
        "  custom_fields = {item: lambda x: int(x, 16) for item in [\"tcp.flags\", \"tcp.checksum\", \"ip.checksum\", \"ip.dsfield\", \"ip.flags\", \"ip.id\"]}\n",
        "  custom_fields.update({'label': lambda x: float(x == \"netflix\")})\n",
        "  dataset = pandas.read_csv(file, converters=custom_fields)\n",
        "  values = dataset.values\n",
        "  X = values[:,:len(values[1]) - 1]\n",
        "  Y = values[:,len(values[1]) - 1]\n",
        "  return X, Y\n",
        "\n",
        "X, Y = get_dataset_from_csv('data/computer.csv')\n",
        "X_train, X_validation, Y_train, Y_validation = model_selection.train_test_split(X, Y, test_size=0.3, random_state=random.randint(0, 100000))\n",
        "X_test, Y_test = get_dataset_from_csv('data/test.csv')"
      ],
      "metadata": {
        "id": "LtSGWRuio9qW"
      },
      "execution_count": null,
      "outputs": []
    },
    {
      "cell_type": "markdown",
      "source": [
        "# Create Model"
      ],
      "metadata": {
        "id": "LV1eVncrtBgj"
      }
    },
    {
      "cell_type": "markdown",
      "source": [
        "## Loading model"
      ],
      "metadata": {
        "id": "NrCTRRXF0A6b"
      }
    },
    {
      "cell_type": "code",
      "source": [
        "filename = BASE_DIR + 'models/MLPClassifier.sav'\n",
        "model = joblib.load(filename)"
      ],
      "metadata": {
        "id": "K76j-fmS6uzN"
      },
      "execution_count": null,
      "outputs": []
    },
    {
      "cell_type": "markdown",
      "source": [
        "## Creating model"
      ],
      "metadata": {
        "id": "nry8AdIN6pEO"
      }
    },
    {
      "cell_type": "code",
      "source": [
        "model = MLPClassifier(learning_rate_init=0.00000175, verbose=True, learning_rate='adaptive')\n",
        "model.fit(X_train, Y_train)"
      ],
      "metadata": {
        "colab": {
          "base_uri": "https://localhost:8080/"
        },
        "id": "MEHGK0B0pkdz",
        "outputId": "e3a9bf02-62e1-4363-e673-2bf4b9497cc8"
      },
      "execution_count": null,
      "outputs": [
        {
          "output_type": "stream",
          "name": "stdout",
          "text": [
            "Iteration 1, loss = 20.87274902\n",
            "Iteration 2, loss = 6.15126468\n",
            "Iteration 3, loss = 6.86002714\n",
            "Iteration 4, loss = 9.25365564\n",
            "Iteration 5, loss = 9.32391912\n",
            "Iteration 6, loss = 9.34246717\n",
            "Iteration 7, loss = 9.40542535\n",
            "Iteration 8, loss = 9.32526904\n",
            "Iteration 9, loss = 9.34223981\n",
            "Iteration 10, loss = 9.24710296\n",
            "Iteration 11, loss = 9.26218063\n",
            "Iteration 12, loss = 9.12762826\n",
            "Iteration 13, loss = 8.91937718\n",
            "Training loss did not improve more than tol=0.000100 for 10 consecutive epochs. Stopping.\n"
          ]
        },
        {
          "output_type": "execute_result",
          "data": {
            "text/plain": [
              "MLPClassifier(learning_rate='adaptive', learning_rate_init=1.75e-06,\n",
              "              verbose=True)"
            ]
          },
          "metadata": {},
          "execution_count": 37
        }
      ]
    },
    {
      "cell_type": "markdown",
      "source": [
        "## Saving model"
      ],
      "metadata": {
        "id": "r0g-xSs32ASi"
      }
    },
    {
      "cell_type": "code",
      "source": [
        "filename = BASE_DIR + 'models/MLPClassifier2.sav'\n",
        "joblib.dump(model, filename)"
      ],
      "metadata": {
        "colab": {
          "base_uri": "https://localhost:8080/"
        },
        "id": "PiA3bzxj1_Gi",
        "outputId": "5f5d268e-aaee-4473-b274-270ab06dc7a0"
      },
      "execution_count": null,
      "outputs": [
        {
          "output_type": "execute_result",
          "data": {
            "text/plain": [
              "['/content/drive/My Drive/MALWIAS/TMA/models/MLPClassifier2.sav']"
            ]
          },
          "metadata": {},
          "execution_count": 33
        }
      ]
    },
    {
      "cell_type": "markdown",
      "source": [
        "# Test & Validation"
      ],
      "metadata": {
        "id": "BO8-JHli2LmY"
      }
    },
    {
      "cell_type": "code",
      "source": [
        "score = model.score(X_validation, Y_validation)\n",
        "expected = Y_test\n",
        "predicted = model.predict(X_test)\n",
        "\n",
        "print(\"Model Score: %s\" % score)"
      ],
      "metadata": {
        "colab": {
          "base_uri": "https://localhost:8080/"
        },
        "id": "c8ki6wMuyPDc",
        "outputId": "b02d9b25-5f9b-4b18-9f42-5cdeee22ff0b"
      },
      "execution_count": null,
      "outputs": [
        {
          "output_type": "stream",
          "name": "stdout",
          "text": [
            "Model Score: 0.6941669192747159\n"
          ]
        }
      ]
    },
    {
      "cell_type": "code",
      "source": [
        "th = 0.5\n",
        "false_positive = false_negative = true_positive = true_negative = good = 0\n",
        "for predicted_i, expected_i in zip(predicted, expected):\n",
        "  predicted_val = int(predicted_i >= th)\n",
        "  if predicted_val == int(expected_i):\n",
        "    good += 1\n",
        "    if predicted_val == 0:\n",
        "      true_negative += 1\n",
        "    else:\n",
        "      true_positive += 1\n",
        "  else:\n",
        "    if predicted_val == 0:\n",
        "      false_negative += 1\n",
        "    else:\n",
        "      false_positive += 1\n",
        "\n",
        "print(\"true positive = \" + str(true_positive)+ \"---> rate = \" + str(true_positive/(true_positive+false_negative)))\n",
        "print(\"true negative = \" + str(true_negative) + \"---> rate = \" + str(true_negative/(true_negative+false_positive)))\n",
        "print(\"false negative = \" + str(false_negative) + \"---> rate = \" + str(false_negative/(false_negative+true_positive)))\n",
        "print(\"false positive = \" + str(false_positive) + \"---> rate = \" + str(false_positive/(false_positive+true_negative)))\n",
        "print(\"sensitivity = \" + str(true_positive/(true_positive+false_negative)))\n",
        "print(\"specifity = \" + str(true_negative/(true_negative+false_positive)))\n",
        "print(\"acurracy = \" + str(good/len(predicted)))"
      ],
      "metadata": {
        "colab": {
          "base_uri": "https://localhost:8080/"
        },
        "id": "RdDixX1N3PpN",
        "outputId": "c6e278b0-8033-49be-85ad-101ab005959f"
      },
      "execution_count": null,
      "outputs": [
        {
          "output_type": "stream",
          "name": "stdout",
          "text": [
            "true positive = 1550---> rate = 0.5759940542549238\n",
            "true negative = 14304---> rate = 0.710934393638171\n",
            "false negative = 1141---> rate = 0.42400594574507616\n",
            "false positive = 5816---> rate = 0.28906560636182904\n",
            "sensitivity = 0.5759940542549238\n",
            "specifity = 0.710934393638171\n",
            "acurracy = 0.6950155626671343\n"
          ]
        }
      ]
    }
  ]
}