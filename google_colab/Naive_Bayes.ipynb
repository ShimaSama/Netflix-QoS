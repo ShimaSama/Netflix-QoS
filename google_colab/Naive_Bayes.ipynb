{
  "nbformat": 4,
  "nbformat_minor": 0,
  "metadata": {
    "colab": {
      "provenance": [],
      "toc_visible": true,
      "include_colab_link": true
    },
    "kernelspec": {
      "name": "python3",
      "display_name": "Python 3"
    },
    "language_info": {
      "name": "python"
    }
  },
  "cells": [
    {
      "cell_type": "markdown",
      "metadata": {
        "id": "view-in-github",
        "colab_type": "text"
      },
      "source": [
        "<a href=\"https://colab.research.google.com/github/ShimaSama/Netflix-QoS/blob/main/google_colab/Naive_Bayes.ipynb\" target=\"_parent\"><img src=\"https://colab.research.google.com/assets/colab-badge.svg\" alt=\"Open In Colab\"/></a>"
      ]
    },
    {
      "cell_type": "markdown",
      "source": [
        "# Imports"
      ],
      "metadata": {
        "id": "W9MDgr_rn1pL"
      }
    },
    {
      "cell_type": "code",
      "execution_count": null,
      "metadata": {
        "id": "hONGf4ODnxP5"
      },
      "outputs": [],
      "source": [
        "import pandas\n",
        "import matplotlib.pyplot as plt\n",
        "from sklearn import model_selection\n",
        "from sklearn import metrics\n",
        "from sklearn.datasets import load_iris\n",
        "from sklearn.model_selection import train_test_split\n",
        "from sklearn.naive_bayes import GaussianNB\n",
        "import random\n",
        "import joblib"
      ]
    },
    {
      "cell_type": "markdown",
      "source": [
        "# Load dataset"
      ],
      "metadata": {
        "id": "vjV_X4CYoA_-"
      }
    },
    {
      "cell_type": "code",
      "source": [
        "from google.colab import drive\n",
        "drive.mount('/content/drive')\n",
        "BASE_DIR = '/content/drive/My Drive/MALWIAS/TMA/'"
      ],
      "metadata": {
        "colab": {
          "base_uri": "https://localhost:8080/"
        },
        "id": "cVN5o1KKn-6_",
        "outputId": "0c17e880-9fd9-48f6-f8eb-4accd270d23d"
      },
      "execution_count": null,
      "outputs": [
        {
          "output_type": "stream",
          "name": "stdout",
          "text": [
            "Mounted at /content/drive\n"
          ]
        }
      ]
    },
    {
      "cell_type": "code",
      "source": [
        "def get_dataset_from_csv(filename):\n",
        "  file = open(BASE_DIR + filename, 'r')\n",
        "  hexa_fields = {item: lambda x: int(x, 16) for item in [\"tcp.flags\", \"tcp.checksum\", \"ip.checksum\", \"ip.dsfield\", \"ip.flags\", \"ip.id\"]}\n",
        "  dataset = pandas.read_csv(file, converters=hexa_fields)\n",
        "  values = dataset.values\n",
        "  X = values[:,:len(values[1]) - 1]\n",
        "  Y = values[:,len(values[1]) - 1]\n",
        "  return X, Y\n",
        "\n",
        "X, Y = get_dataset_from_csv('data/computer.csv')\n",
        "X_train, X_validation, Y_train, Y_validation = model_selection.train_test_split(X, Y, test_size=0.3, random_state=random.randint(0, 100000))\n",
        "X_test, Y_test = get_dataset_from_csv('data/test.csv')"
      ],
      "metadata": {
        "id": "LtSGWRuio9qW"
      },
      "execution_count": null,
      "outputs": []
    },
    {
      "cell_type": "markdown",
      "source": [
        "# Create Model"
      ],
      "metadata": {
        "id": "LV1eVncrtBgj"
      }
    },
    {
      "cell_type": "markdown",
      "source": [
        "## Loading model"
      ],
      "metadata": {
        "id": "NrCTRRXF0A6b"
      }
    },
    {
      "cell_type": "code",
      "source": [
        "filename = BASE_DIR + 'models/NaiveBayes_model.sav'\n",
        "model = joblib.load(filename)"
      ],
      "metadata": {
        "id": "K76j-fmS6uzN"
      },
      "execution_count": null,
      "outputs": []
    },
    {
      "cell_type": "markdown",
      "source": [
        "## Creating model"
      ],
      "metadata": {
        "id": "nry8AdIN6pEO"
      }
    },
    {
      "cell_type": "code",
      "source": [
        "gnb = GaussianNB()\n",
        "model = gnb.fit(X_train, Y_train)\n"
      ],
      "metadata": {
        "id": "MEHGK0B0pkdz"
      },
      "execution_count": null,
      "outputs": []
    },
    {
      "cell_type": "markdown",
      "source": [
        "## Saving model"
      ],
      "metadata": {
        "id": "r0g-xSs32ASi"
      }
    },
    {
      "cell_type": "code",
      "source": [
        "filename = BASE_DIR + 'models/NaiveBayes.sav'\n",
        "joblib.dump(model, filename)"
      ],
      "metadata": {
        "colab": {
          "base_uri": "https://localhost:8080/"
        },
        "id": "PiA3bzxj1_Gi",
        "outputId": "04bc2e54-b68a-4ad5-caf3-ba0fdd7dfc66"
      },
      "execution_count": null,
      "outputs": [
        {
          "output_type": "execute_result",
          "data": {
            "text/plain": [
              "['/content/drive/My Drive/MALWIAS/TMA/models/NaiveBayes.sav']"
            ]
          },
          "metadata": {},
          "execution_count": 9
        }
      ]
    },
    {
      "cell_type": "markdown",
      "source": [
        "# Test & Validation"
      ],
      "metadata": {
        "id": "BO8-JHli2LmY"
      }
    },
    {
      "cell_type": "code",
      "source": [
        "score = model.score(X_validation, Y_validation)\n",
        "expected = Y_test\n",
        "predicted = model.predict(X_test)\n",
        "\n",
        "print(\"Model Score: %s\" % score)\n",
        "print(metrics.classification_report(expected, predicted))\n",
        "print(metrics.confusion_matrix(expected, predicted))"
      ],
      "metadata": {
        "colab": {
          "base_uri": "https://localhost:8080/"
        },
        "id": "c8ki6wMuyPDc",
        "outputId": "3a69cc72-5a81-4ad7-94aa-bcb12a3653e0"
      },
      "execution_count": null,
      "outputs": [
        {
          "output_type": "stream",
          "name": "stdout",
          "text": [
            "Model Score: 0.7508026749645833\n",
            "              precision    recall  f1-score   support\n",
            "\n",
            "     netflix       0.11      0.18      0.13      2691\n",
            "  no_netflix       0.88      0.80      0.84     20120\n",
            "\n",
            "    accuracy                           0.73     22811\n",
            "   macro avg       0.49      0.49      0.49     22811\n",
            "weighted avg       0.79      0.73      0.75     22811\n",
            "\n",
            "[[  476  2215]\n",
            " [ 4024 16096]]\n"
          ]
        }
      ]
    },
    {
      "cell_type": "code",
      "source": [
        "false_positive = false_negative = true_positive = true_negative = good = 0\n",
        "for predicted_i, expected_i in zip(predicted, expected):\n",
        "  if predicted_i == expected_i:\n",
        "    good += 1\n",
        "    if predicted_i == \"no_netflix\":\n",
        "      true_negative += 1\n",
        "    else:\n",
        "      true_positive += 1\n",
        "  else:\n",
        "    if predicted_i == \"no_netflix\":\n",
        "      false_negative += 1\n",
        "    else:\n",
        "      false_positive += 1\n",
        "\n",
        "print(\"true positive = \" + str(true_positive)+ \"---> rate = \" + str(true_positive/(true_positive+false_negative)))\n",
        "print(\"true negative = \" + str(true_negative) + \"---> rate = \" + str(true_negative/(true_negative+false_positive)))\n",
        "print(\"false negative = \" + str(false_negative) + \"---> rate = \" + str(false_negative/(false_negative+true_positive)))\n",
        "print(\"false positive = \" + str(false_positive) + \"---> rate = \" + str(false_positive/(false_positive+true_negative)))\n",
        "print(\"sensitivity = \" + str(true_positive/(true_positive+false_negative)))\n",
        "print(\"specifity = \" + str(true_negative/(true_negative+false_positive)))\n",
        "print(\"acurracy = \" + str(good/len(predicted)))"
      ],
      "metadata": {
        "colab": {
          "base_uri": "https://localhost:8080/"
        },
        "id": "RdDixX1N3PpN",
        "outputId": "a697d206-c4f5-4007-bfbc-b9012df3aad1"
      },
      "execution_count": null,
      "outputs": [
        {
          "output_type": "stream",
          "name": "stdout",
          "text": [
            "true positive = 476---> rate = 0.17688591601635079\n",
            "true negative = 16096---> rate = 0.8\n",
            "false negative = 2215---> rate = 0.8231140839836492\n",
            "false positive = 4024---> rate = 0.2\n",
            "sensitivity = 0.17688591601635079\n",
            "specifity = 0.8\n",
            "acurracy = 0.7264916049274472\n"
          ]
        }
      ]
    }
  ]
}