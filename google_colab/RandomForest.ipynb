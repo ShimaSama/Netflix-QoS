{
  "nbformat": 4,
  "nbformat_minor": 0,
  "metadata": {
    "colab": {
      "provenance": [],
      "toc_visible": true,
      "include_colab_link": true
    },
    "kernelspec": {
      "name": "python3",
      "display_name": "Python 3"
    },
    "language_info": {
      "name": "python"
    }
  },
  "cells": [
    {
      "cell_type": "markdown",
      "metadata": {
        "id": "view-in-github",
        "colab_type": "text"
      },
      "source": [
        "<a href=\"https://colab.research.google.com/github/ShimaSama/Netflix-QoS/blob/main/google_colab/RandomForest.ipynb\" target=\"_parent\"><img src=\"https://colab.research.google.com/assets/colab-badge.svg\" alt=\"Open In Colab\"/></a>"
      ]
    },
    {
      "cell_type": "markdown",
      "source": [
        "# Imports"
      ],
      "metadata": {
        "id": "W9MDgr_rn1pL"
      }
    },
    {
      "cell_type": "code",
      "source": [
        "!apt-get install tshark"
      ],
      "metadata": {
        "colab": {
          "base_uri": "https://localhost:8080/"
        },
        "id": "MIWmnPuOrY_M",
        "outputId": "792b1f18-15bd-48c1-bec8-0e7c0ac65770"
      },
      "execution_count": null,
      "outputs": [
        {
          "output_type": "stream",
          "name": "stdout",
          "text": [
            "Reading package lists... Done\n",
            "Building dependency tree       \n",
            "Reading state information... Done\n",
            "The following package was automatically installed and is no longer required:\n",
            "  libnvidia-common-460\n",
            "Use 'apt autoremove' to remove it.\n",
            "The following additional packages will be installed:\n",
            "  libc-ares2 libcap2-bin liblua5.2-0 libmaxminddb0 libnl-genl-3-200 libpam-cap\n",
            "  libpcap0.8 libsbc1 libsmi2ldbl libspandsp2 libwireshark-data libwireshark11\n",
            "  libwiretap8 libwscodecs2 libwsutil9 wireshark-common\n",
            "Suggested packages:\n",
            "  mmdb-bin snmp-mibs-downloader wireshark-doc\n",
            "The following NEW packages will be installed:\n",
            "  libc-ares2 libcap2-bin liblua5.2-0 libmaxminddb0 libnl-genl-3-200 libpam-cap\n",
            "  libpcap0.8 libsbc1 libsmi2ldbl libspandsp2 libwireshark-data libwireshark11\n",
            "  libwiretap8 libwscodecs2 libwsutil9 tshark wireshark-common\n",
            "0 upgraded, 17 newly installed, 0 to remove and 21 not upgraded.\n",
            "Need to get 16.5 MB of archives.\n",
            "After this operation, 95.6 MB of additional disk space will be used.\n",
            "Get:1 http://archive.ubuntu.com/ubuntu bionic/main amd64 libcap2-bin amd64 1:2.25-1.2 [20.6 kB]\n",
            "Get:2 http://archive.ubuntu.com/ubuntu bionic/main amd64 libpam-cap amd64 1:2.25-1.2 [7,268 B]\n",
            "Get:3 http://archive.ubuntu.com/ubuntu bionic-updates/main amd64 libpcap0.8 amd64 1.8.1-6ubuntu1.18.04.2 [118 kB]\n",
            "Get:4 http://archive.ubuntu.com/ubuntu bionic/main amd64 liblua5.2-0 amd64 5.2.4-1.1build1 [108 kB]\n",
            "Get:5 http://archive.ubuntu.com/ubuntu bionic/universe amd64 libmaxminddb0 amd64 1.3.1-1 [25.6 kB]\n",
            "Get:6 http://archive.ubuntu.com/ubuntu bionic/main amd64 libnl-genl-3-200 amd64 3.2.29-0ubuntu3 [11.2 kB]\n",
            "Get:7 http://archive.ubuntu.com/ubuntu bionic/main amd64 libsmi2ldbl amd64 0.4.8+dfsg2-15 [100 kB]\n",
            "Get:8 http://archive.ubuntu.com/ubuntu bionic/universe amd64 libspandsp2 amd64 0.0.6+dfsg-0.1 [273 kB]\n",
            "Get:9 http://archive.ubuntu.com/ubuntu bionic-updates/universe amd64 libwireshark-data all 2.6.10-1~ubuntu18.04.0 [1,425 kB]\n",
            "Get:10 http://archive.ubuntu.com/ubuntu bionic-updates/main amd64 libc-ares2 amd64 1.14.0-1ubuntu0.1 [37.5 kB]\n",
            "Get:11 http://archive.ubuntu.com/ubuntu bionic-updates/universe amd64 libwsutil9 amd64 2.6.10-1~ubuntu18.04.0 [55.5 kB]\n",
            "Get:12 http://archive.ubuntu.com/ubuntu bionic-updates/universe amd64 libwiretap8 amd64 2.6.10-1~ubuntu18.04.0 [177 kB]\n",
            "Get:13 http://archive.ubuntu.com/ubuntu bionic/main amd64 libsbc1 amd64 1.3-2 [33.1 kB]\n",
            "Get:14 http://archive.ubuntu.com/ubuntu bionic-updates/universe amd64 libwscodecs2 amd64 2.6.10-1~ubuntu18.04.0 [17.8 kB]\n",
            "Get:15 http://archive.ubuntu.com/ubuntu bionic-updates/universe amd64 libwireshark11 amd64 2.6.10-1~ubuntu18.04.0 [13.6 MB]\n",
            "Get:16 http://archive.ubuntu.com/ubuntu bionic-updates/universe amd64 wireshark-common amd64 2.6.10-1~ubuntu18.04.0 [391 kB]\n",
            "Get:17 http://archive.ubuntu.com/ubuntu bionic-updates/universe amd64 tshark amd64 2.6.10-1~ubuntu18.04.0 [134 kB]\n",
            "Fetched 16.5 MB in 0s (38.2 MB/s)\n",
            "Preconfiguring packages ...\n",
            "Selecting previously unselected package libcap2-bin.\n",
            "(Reading database ... 124016 files and directories currently installed.)\n",
            "Preparing to unpack .../00-libcap2-bin_1%3a2.25-1.2_amd64.deb ...\n",
            "Unpacking libcap2-bin (1:2.25-1.2) ...\n",
            "Selecting previously unselected package libpam-cap:amd64.\n",
            "Preparing to unpack .../01-libpam-cap_1%3a2.25-1.2_amd64.deb ...\n",
            "Unpacking libpam-cap:amd64 (1:2.25-1.2) ...\n",
            "Selecting previously unselected package libpcap0.8:amd64.\n",
            "Preparing to unpack .../02-libpcap0.8_1.8.1-6ubuntu1.18.04.2_amd64.deb ...\n",
            "Unpacking libpcap0.8:amd64 (1.8.1-6ubuntu1.18.04.2) ...\n",
            "Selecting previously unselected package liblua5.2-0:amd64.\n",
            "Preparing to unpack .../03-liblua5.2-0_5.2.4-1.1build1_amd64.deb ...\n",
            "Unpacking liblua5.2-0:amd64 (5.2.4-1.1build1) ...\n",
            "Selecting previously unselected package libmaxminddb0:amd64.\n",
            "Preparing to unpack .../04-libmaxminddb0_1.3.1-1_amd64.deb ...\n",
            "Unpacking libmaxminddb0:amd64 (1.3.1-1) ...\n",
            "Selecting previously unselected package libnl-genl-3-200:amd64.\n",
            "Preparing to unpack .../05-libnl-genl-3-200_3.2.29-0ubuntu3_amd64.deb ...\n",
            "Unpacking libnl-genl-3-200:amd64 (3.2.29-0ubuntu3) ...\n",
            "Selecting previously unselected package libsmi2ldbl:amd64.\n",
            "Preparing to unpack .../06-libsmi2ldbl_0.4.8+dfsg2-15_amd64.deb ...\n",
            "Unpacking libsmi2ldbl:amd64 (0.4.8+dfsg2-15) ...\n",
            "Selecting previously unselected package libspandsp2:amd64.\n",
            "Preparing to unpack .../07-libspandsp2_0.0.6+dfsg-0.1_amd64.deb ...\n",
            "Unpacking libspandsp2:amd64 (0.0.6+dfsg-0.1) ...\n",
            "Selecting previously unselected package libwireshark-data.\n",
            "Preparing to unpack .../08-libwireshark-data_2.6.10-1~ubuntu18.04.0_all.deb ...\n",
            "Unpacking libwireshark-data (2.6.10-1~ubuntu18.04.0) ...\n",
            "Selecting previously unselected package libc-ares2:amd64.\n",
            "Preparing to unpack .../09-libc-ares2_1.14.0-1ubuntu0.1_amd64.deb ...\n",
            "Unpacking libc-ares2:amd64 (1.14.0-1ubuntu0.1) ...\n",
            "Selecting previously unselected package libwsutil9:amd64.\n",
            "Preparing to unpack .../10-libwsutil9_2.6.10-1~ubuntu18.04.0_amd64.deb ...\n",
            "Unpacking libwsutil9:amd64 (2.6.10-1~ubuntu18.04.0) ...\n",
            "Selecting previously unselected package libwiretap8:amd64.\n",
            "Preparing to unpack .../11-libwiretap8_2.6.10-1~ubuntu18.04.0_amd64.deb ...\n",
            "Unpacking libwiretap8:amd64 (2.6.10-1~ubuntu18.04.0) ...\n",
            "Selecting previously unselected package libsbc1:amd64.\n",
            "Preparing to unpack .../12-libsbc1_1.3-2_amd64.deb ...\n",
            "Unpacking libsbc1:amd64 (1.3-2) ...\n",
            "Selecting previously unselected package libwscodecs2:amd64.\n",
            "Preparing to unpack .../13-libwscodecs2_2.6.10-1~ubuntu18.04.0_amd64.deb ...\n",
            "Unpacking libwscodecs2:amd64 (2.6.10-1~ubuntu18.04.0) ...\n",
            "Selecting previously unselected package libwireshark11:amd64.\n",
            "Preparing to unpack .../14-libwireshark11_2.6.10-1~ubuntu18.04.0_amd64.deb ...\n",
            "Unpacking libwireshark11:amd64 (2.6.10-1~ubuntu18.04.0) ...\n",
            "Selecting previously unselected package wireshark-common.\n",
            "Preparing to unpack .../15-wireshark-common_2.6.10-1~ubuntu18.04.0_amd64.deb ...\n",
            "Unpacking wireshark-common (2.6.10-1~ubuntu18.04.0) ...\n",
            "Selecting previously unselected package tshark.\n",
            "Preparing to unpack .../16-tshark_2.6.10-1~ubuntu18.04.0_amd64.deb ...\n",
            "Unpacking tshark (2.6.10-1~ubuntu18.04.0) ...\n",
            "Setting up libsbc1:amd64 (1.3-2) ...\n",
            "Setting up libpam-cap:amd64 (1:2.25-1.2) ...\n",
            "Setting up libcap2-bin (1:2.25-1.2) ...\n",
            "Setting up libspandsp2:amd64 (0.0.6+dfsg-0.1) ...\n",
            "Setting up libnl-genl-3-200:amd64 (3.2.29-0ubuntu3) ...\n",
            "Setting up libsmi2ldbl:amd64 (0.4.8+dfsg2-15) ...\n",
            "Setting up libwsutil9:amd64 (2.6.10-1~ubuntu18.04.0) ...\n",
            "Setting up libwireshark-data (2.6.10-1~ubuntu18.04.0) ...\n",
            "Setting up libwscodecs2:amd64 (2.6.10-1~ubuntu18.04.0) ...\n",
            "Setting up liblua5.2-0:amd64 (5.2.4-1.1build1) ...\n",
            "Setting up libc-ares2:amd64 (1.14.0-1ubuntu0.1) ...\n",
            "Setting up libmaxminddb0:amd64 (1.3.1-1) ...\n",
            "Setting up libpcap0.8:amd64 (1.8.1-6ubuntu1.18.04.2) ...\n",
            "Setting up libwiretap8:amd64 (2.6.10-1~ubuntu18.04.0) ...\n",
            "Setting up libwireshark11:amd64 (2.6.10-1~ubuntu18.04.0) ...\n",
            "Setting up wireshark-common (2.6.10-1~ubuntu18.04.0) ...\n",
            "Setting up tshark (2.6.10-1~ubuntu18.04.0) ...\n",
            "Processing triggers for libc-bin (2.27-3ubuntu1.6) ...\n",
            "Processing triggers for man-db (2.8.3-2ubuntu0.1) ...\n",
            "Processing triggers for shared-mime-info (1.9-2) ...\n",
            "Processing triggers for hicolor-icon-theme (0.17-2) ...\n"
          ]
        }
      ]
    },
    {
      "cell_type": "code",
      "execution_count": null,
      "metadata": {
        "id": "hONGf4ODnxP5"
      },
      "outputs": [],
      "source": [
        "import pandas\n",
        "import matplotlib.pyplot as plt\n",
        "from sklearn import model_selection\n",
        "from sklearn import metrics\n",
        "from sklearn.ensemble import RandomForestClassifier\n",
        "import random\n",
        "import joblib\n",
        "import os"
      ]
    },
    {
      "cell_type": "code",
      "source": [
        "from google.colab import drive\n",
        "drive.mount('/content/drive')\n",
        "BASE_DIR = '/content/drive/My Drive/MALWIAS/TMA/'"
      ],
      "metadata": {
        "colab": {
          "base_uri": "https://localhost:8080/"
        },
        "id": "cVN5o1KKn-6_",
        "outputId": "9e3bfbd6-9116-4eb8-bbed-6509a00ffd95"
      },
      "execution_count": null,
      "outputs": [
        {
          "output_type": "stream",
          "name": "stdout",
          "text": [
            "Mounted at /content/drive\n"
          ]
        }
      ]
    },
    {
      "cell_type": "markdown",
      "source": [
        "## Converting pcap to csv"
      ],
      "metadata": {
        "id": "CdmjN1H0oyVb"
      }
    },
    {
      "cell_type": "code",
      "source": [
        "!tshark -r \"/content/drive/My Drive/MALWIAS/TMA/pcap/others1.pcap\" -T fields -E header=y -E separator=, -E quote=d -E occurrence=f -e ip.version -e ip.hdr_len  -e ip.id -e ip.flags -e ip.flags.rb -e ip.flags.df -e ip.flags.mf -e ip.frag_offset -e ip.ttl -e ip.proto -e ip.checksum -e ip.len -e ip.dsfield -e tcp.srcport -e tcp.dstport -e tcp.seq -e tcp.ack -e tcp.len -e tcp.hdr_len -e tcp.flags -e tcp.flags.fin -e tcp.flags.syn -e tcp.flags.reset -e tcp.flags.push -e tcp.flags.ack -e tcp.flags.urg -e tcp.flags.cwr -e tcp.window_size -e tcp.checksum -e tcp.urgent_pointer > \"/content/drive/My Drive/MALWIAS/TMA/pcap/others1.csv\"\n",
        "!tshark -r \"/content/drive/My Drive/MALWIAS/TMA/pcap/netflix1.pcap\" -T fields -E header=y -E separator=, -E quote=d -E occurrence=f -e ip.version -e ip.hdr_len  -e ip.id -e ip.flags -e ip.flags.rb -e ip.flags.df -e ip.flags.mf -e ip.frag_offset -e ip.ttl -e ip.proto -e ip.checksum -e ip.len -e ip.dsfield -e tcp.srcport -e tcp.dstport -e tcp.seq -e tcp.ack -e tcp.len -e tcp.hdr_len -e tcp.flags -e tcp.flags.fin -e tcp.flags.syn -e tcp.flags.reset -e tcp.flags.push -e tcp.flags.ack -e tcp.flags.urg -e tcp.flags.cwr -e tcp.window_size -e tcp.checksum -e tcp.urgent_pointer > \"/content/drive/My Drive/MALWIAS/TMA/pcap/netflix1.csv\"\n"
      ],
      "metadata": {
        "colab": {
          "base_uri": "https://localhost:8080/"
        },
        "id": "UJWILi0Ko3AX",
        "outputId": "a5578bf5-8a01-41b2-e86e-8128ee6ff0ab"
      },
      "execution_count": null,
      "outputs": [
        {
          "output_type": "stream",
          "name": "stdout",
          "text": [
            "/bin/bash: /content/drive/My Drive/MALWIAS/TMA/pcap/others1.csv: No such file or directory\n",
            "/bin/bash: /content/drive/My Drive/MALWIAS/TMA/pcap/netflix1.csv: No such file or directory\n"
          ]
        }
      ]
    },
    {
      "cell_type": "code",
      "source": [
        "def add_label(file_name, label):\n",
        "  file = open(BASE_DIR + file_name)\n",
        "  dataset = pandas.read_csv(file)\n",
        "  dataset['label'] = label\n",
        "  return dataset\n",
        "\n",
        "d1 = add_label('pcap/others1.csv', 'no_netflix')\n",
        "d2 = add_label('pcap/netflix1.csv', 'netflix')\n",
        "dataset = pandas.concat([d1, d2])\n",
        "file = open(BASE_DIR + 'data/retrain2.csv', 'w+')\n",
        "dataset.to_csv(file, index=False)\n",
        "file.close()"
      ],
      "metadata": {
        "id": "gBC3RDfqstgZ",
        "colab": {
          "base_uri": "https://localhost:8080/",
          "height": 356
        },
        "outputId": "18fcf82f-89c2-4e75-a9c8-7964cf1c550f"
      },
      "execution_count": null,
      "outputs": [
        {
          "output_type": "error",
          "ename": "FileNotFoundError",
          "evalue": "ignored",
          "traceback": [
            "\u001b[0;31m---------------------------------------------------------------------------\u001b[0m",
            "\u001b[0;31mFileNotFoundError\u001b[0m                         Traceback (most recent call last)",
            "\u001b[0;32m<ipython-input-5-8e3589fbd935>\u001b[0m in \u001b[0;36m<module>\u001b[0;34m\u001b[0m\n\u001b[1;32m      5\u001b[0m   \u001b[0;32mreturn\u001b[0m \u001b[0mdataset\u001b[0m\u001b[0;34m\u001b[0m\u001b[0;34m\u001b[0m\u001b[0m\n\u001b[1;32m      6\u001b[0m \u001b[0;34m\u001b[0m\u001b[0m\n\u001b[0;32m----> 7\u001b[0;31m \u001b[0md1\u001b[0m \u001b[0;34m=\u001b[0m \u001b[0madd_label\u001b[0m\u001b[0;34m(\u001b[0m\u001b[0;34m'pcap/others1.csv'\u001b[0m\u001b[0;34m,\u001b[0m \u001b[0;34m'no_netflix'\u001b[0m\u001b[0;34m)\u001b[0m\u001b[0;34m\u001b[0m\u001b[0;34m\u001b[0m\u001b[0m\n\u001b[0m\u001b[1;32m      8\u001b[0m \u001b[0md2\u001b[0m \u001b[0;34m=\u001b[0m \u001b[0madd_label\u001b[0m\u001b[0;34m(\u001b[0m\u001b[0;34m'pcap/netflix1.csv'\u001b[0m\u001b[0;34m,\u001b[0m \u001b[0;34m'netflix'\u001b[0m\u001b[0;34m)\u001b[0m\u001b[0;34m\u001b[0m\u001b[0;34m\u001b[0m\u001b[0m\n\u001b[1;32m      9\u001b[0m \u001b[0mdataset\u001b[0m \u001b[0;34m=\u001b[0m \u001b[0mpandas\u001b[0m\u001b[0;34m.\u001b[0m\u001b[0mconcat\u001b[0m\u001b[0;34m(\u001b[0m\u001b[0;34m[\u001b[0m\u001b[0md1\u001b[0m\u001b[0;34m,\u001b[0m \u001b[0md2\u001b[0m\u001b[0;34m]\u001b[0m\u001b[0;34m)\u001b[0m\u001b[0;34m\u001b[0m\u001b[0;34m\u001b[0m\u001b[0m\n",
            "\u001b[0;32m<ipython-input-5-8e3589fbd935>\u001b[0m in \u001b[0;36madd_label\u001b[0;34m(file_name, label)\u001b[0m\n\u001b[1;32m      1\u001b[0m \u001b[0;32mdef\u001b[0m \u001b[0madd_label\u001b[0m\u001b[0;34m(\u001b[0m\u001b[0mfile_name\u001b[0m\u001b[0;34m,\u001b[0m \u001b[0mlabel\u001b[0m\u001b[0;34m)\u001b[0m\u001b[0;34m:\u001b[0m\u001b[0;34m\u001b[0m\u001b[0;34m\u001b[0m\u001b[0m\n\u001b[0;32m----> 2\u001b[0;31m   \u001b[0mfile\u001b[0m \u001b[0;34m=\u001b[0m \u001b[0mopen\u001b[0m\u001b[0;34m(\u001b[0m\u001b[0mBASE_DIR\u001b[0m \u001b[0;34m+\u001b[0m \u001b[0mfile_name\u001b[0m\u001b[0;34m)\u001b[0m\u001b[0;34m\u001b[0m\u001b[0;34m\u001b[0m\u001b[0m\n\u001b[0m\u001b[1;32m      3\u001b[0m   \u001b[0mdataset\u001b[0m \u001b[0;34m=\u001b[0m \u001b[0mpandas\u001b[0m\u001b[0;34m.\u001b[0m\u001b[0mread_csv\u001b[0m\u001b[0;34m(\u001b[0m\u001b[0mfile\u001b[0m\u001b[0;34m)\u001b[0m\u001b[0;34m\u001b[0m\u001b[0;34m\u001b[0m\u001b[0m\n\u001b[1;32m      4\u001b[0m   \u001b[0mdataset\u001b[0m\u001b[0;34m[\u001b[0m\u001b[0;34m'label'\u001b[0m\u001b[0;34m]\u001b[0m \u001b[0;34m=\u001b[0m \u001b[0mlabel\u001b[0m\u001b[0;34m\u001b[0m\u001b[0;34m\u001b[0m\u001b[0m\n\u001b[1;32m      5\u001b[0m   \u001b[0;32mreturn\u001b[0m \u001b[0mdataset\u001b[0m\u001b[0;34m\u001b[0m\u001b[0;34m\u001b[0m\u001b[0m\n",
            "\u001b[0;31mFileNotFoundError\u001b[0m: [Errno 2] No such file or directory: '/content/drive/My Drive/MALWIAS/TMA/pcap/others1.csv'"
          ]
        }
      ]
    },
    {
      "cell_type": "markdown",
      "source": [
        "# Create Model"
      ],
      "metadata": {
        "id": "LV1eVncrtBgj"
      }
    },
    {
      "cell_type": "markdown",
      "source": [
        "## Loading model"
      ],
      "metadata": {
        "id": "NrCTRRXF0A6b"
      }
    },
    {
      "cell_type": "code",
      "source": [
        "filename = BASE_DIR + 'models/RandomForest_model.sav'\n",
        "model = joblib.load(filename)"
      ],
      "metadata": {
        "id": "K76j-fmS6uzN"
      },
      "execution_count": null,
      "outputs": []
    },
    {
      "cell_type": "markdown",
      "source": [
        "## Load dataset"
      ],
      "metadata": {
        "id": "vjV_X4CYoA_-"
      }
    },
    {
      "cell_type": "code",
      "source": [
        "retrains = 3\n",
        "\n",
        "def get_dataset_from_csv(filename, test=False):\n",
        "  file = open(BASE_DIR + filename, 'r')\n",
        "  hexa_fields = {item: lambda x: int(x, 16) for item in [\"tcp.flags\", \"tcp.checksum\", \"ip.checksum\", \"ip.dsfield\", \"ip.flags\", \"ip.id\"]}\n",
        "  dataset = pandas.read_csv(file, converters=hexa_fields)\n",
        "  if not test:\n",
        "    datasets = [dataset]\n",
        "    for x in range(0, retrains):\n",
        "      file = open(BASE_DIR + 'data/retrain%s.csv' % x, 'r')\n",
        "      datasets.append(pandas.read_csv(file, converters=hexa_fields))\n",
        "    print(\"Got %s datasets\" % len(datasets))\n",
        "    dataset = pandas.concat(datasets).sample(frac=1).reset_index(drop=True)\n",
        "  values = dataset.values\n",
        "  X = values[:,:len(values[1]) - 1]\n",
        "  Y = values[:,len(values[1]) - 1]\n",
        "  return X, Y\n",
        "\n",
        "#X_train, Y_train = get_dataset_from_csv('data/computer.csv')\n",
        "#X_test, Y_test = get_dataset_from_csv('data/test.csv', test=True)\n",
        "X, Y = get_dataset_from_csv('data/computer.csv')\n",
        "X_train, X_test, Y_train, Y_test = model_selection.train_test_split(X, Y, test_size=0.5, random_state=random.randint(0, 100000))"
      ],
      "metadata": {
        "id": "LtSGWRuio9qW",
        "colab": {
          "base_uri": "https://localhost:8080/"
        },
        "outputId": "0f23c101-1990-4a17-f58b-02089b947aa2"
      },
      "execution_count": null,
      "outputs": [
        {
          "output_type": "stream",
          "name": "stdout",
          "text": [
            "Got 4 datasets\n"
          ]
        }
      ]
    },
    {
      "cell_type": "markdown",
      "source": [
        "## Creating model"
      ],
      "metadata": {
        "id": "nry8AdIN6pEO"
      }
    },
    {
      "cell_type": "code",
      "source": [
        "model = RandomForestClassifier(n_estimators=10)\n",
        "model.fit(X_train, Y_train)\n",
        "plt.bar(range(len(model.feature_importances_)), model.feature_importances_)\n",
        "plt.show()"
      ],
      "metadata": {
        "colab": {
          "base_uri": "https://localhost:8080/",
          "height": 265
        },
        "id": "MEHGK0B0pkdz",
        "outputId": "6ef92ba4-0f1a-46ee-b1d5-569406d7d910"
      },
      "execution_count": null,
      "outputs": [
        {
          "output_type": "display_data",
          "data": {
            "text/plain": [
              "<Figure size 432x288 with 1 Axes>"
            ],
            "image/png": "[encoded data removed]"
          },
          "metadata": {
            "needs_background": "light"
          }
        }
      ]
    },
    {
      "cell_type": "markdown",
      "source": [
        "## Saving model"
      ],
      "metadata": {
        "id": "r0g-xSs32ASi"
      }
    },
    {
      "cell_type": "code",
      "source": [
        "filename = BASE_DIR + 'models/RandomForest_model_best.sav'\n",
        "joblib.dump(model, filename)"
      ],
      "metadata": {
        "colab": {
          "base_uri": "https://localhost:8080/"
        },
        "id": "PiA3bzxj1_Gi",
        "outputId": "b3168681-9256-4579-9582-b32ebe6d0e2a"
      },
      "execution_count": null,
      "outputs": [
        {
          "output_type": "execute_result",
          "data": {
            "text/plain": [
              "['/content/drive/My Drive/MALWIAS/TMA/models/RandomForest_model_best.sav']"
            ]
          },
          "metadata": {},
          "execution_count": 57
        }
      ]
    },
    {
      "cell_type": "markdown",
      "source": [
        "# Test & Validation"
      ],
      "metadata": {
        "id": "BO8-JHli2LmY"
      }
    },
    {
      "cell_type": "code",
      "source": [
        "score = model.score(X_test, Y_test)\n",
        "expected = Y_test\n",
        "predicted = model.predict(X_test)\n",
        "\n",
        "print(\"Model Score: %s\" % score)\n",
        "print(metrics.classification_report(expected, predicted))\n",
        "print(metrics.confusion_matrix(expected, predicted))"
      ],
      "metadata": {
        "colab": {
          "base_uri": "https://localhost:8080/"
        },
        "id": "c8ki6wMuyPDc",
        "outputId": "4eefa822-1271-491c-95db-66747fc6a560"
      },
      "execution_count": null,
      "outputs": [
        {
          "output_type": "stream",
          "name": "stdout",
          "text": [
            "Model Score: 0.9733257715096805\n",
            "              precision    recall  f1-score   support\n",
            "\n",
            "     netflix       0.92      0.93      0.92     55140\n",
            "  no_netflix       0.99      0.98      0.98    264007\n",
            "\n",
            "    accuracy                           0.97    319147\n",
            "   macro avg       0.95      0.96      0.95    319147\n",
            "weighted avg       0.97      0.97      0.97    319147\n",
            "\n",
            "[[ 51236   3904]\n",
            " [  4609 259398]]\n"
          ]
        }
      ]
    },
    {
      "cell_type": "code",
      "source": [
        "false_positive = false_negative = true_positive = true_negative = good = 0\n",
        "for predicted_i, expected_i in zip(predicted, expected):\n",
        "  if predicted_i == expected_i:\n",
        "    good += 1\n",
        "    if predicted_i == \"no_netflix\":\n",
        "      true_negative += 1\n",
        "    else:\n",
        "      true_positive += 1\n",
        "  else:\n",
        "    if predicted_i == \"no_netflix\":\n",
        "      false_negative += 1\n",
        "    else:\n",
        "      false_positive += 1\n",
        "\n",
        "print(\"true positive = \" + str(true_positive)+ \"---> rate = \" + str(true_positive/(true_positive+false_negative)))\n",
        "print(\"true negative = \" + str(true_negative) + \"---> rate = \" + str(true_negative/(true_negative+false_positive)))\n",
        "print(\"false negative = \" + str(false_negative) + \"---> rate = \" + str(false_negative/(false_negative+true_positive)))\n",
        "print(\"false positive = \" + str(false_positive) + \"---> rate = \" + str(false_positive/(false_positive+true_negative)))\n",
        "print(\"sensitivity = \" + str(true_positive/(true_positive+false_negative)))\n",
        "print(\"specifity = \" + str(true_negative/(true_negative+false_positive)))\n",
        "print(\"acurracy = \" + str(good/len(predicted)))"
      ],
      "metadata": {
        "colab": {
          "base_uri": "https://localhost:8080/"
        },
        "id": "RdDixX1N3PpN",
        "outputId": "aab83ef6-5662-49c7-c610-b57cd16ac5eb"
      },
      "execution_count": null,
      "outputs": [
        {
          "output_type": "stream",
          "name": "stdout",
          "text": [
            "true positive = 51236---> rate = 0.9291984040623866\n",
            "true negative = 259398---> rate = 0.9825421295647464\n",
            "false negative = 3904---> rate = 0.07080159593761334\n",
            "false positive = 4609---> rate = 0.01745787043525361\n",
            "sensitivity = 0.9291984040623866\n",
            "specifity = 0.9825421295647464\n",
            "acurracy = 0.9733257715096805\n"
          ]
        }
      ]
    }
  ]
}